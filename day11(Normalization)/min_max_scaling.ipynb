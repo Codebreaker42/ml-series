{
 "cells": [
  {
   "cell_type": "code",
   "execution_count": 2,
   "metadata": {},
   "outputs": [],
   "source": [
    "import pandas as pd\n",
    "import numpy as np \n",
    "import seaborn as sns\n",
    "import matplotlib.pyplot as plt"
   ]
  },
  {
   "cell_type": "code",
   "execution_count": 3,
   "metadata": {},
   "outputs": [
    {
     "data": {
      "text/html": [
       "<div>\n",
       "<style scoped>\n",
       "    .dataframe tbody tr th:only-of-type {\n",
       "        vertical-align: middle;\n",
       "    }\n",
       "\n",
       "    .dataframe tbody tr th {\n",
       "        vertical-align: top;\n",
       "    }\n",
       "\n",
       "    .dataframe thead th {\n",
       "        text-align: right;\n",
       "    }\n",
       "</style>\n",
       "<table border=\"1\" class=\"dataframe\">\n",
       "  <thead>\n",
       "    <tr style=\"text-align: right;\">\n",
       "      <th></th>\n",
       "      <th>class_label</th>\n",
       "      <th>alcohol</th>\n",
       "      <th>malic acid</th>\n",
       "    </tr>\n",
       "  </thead>\n",
       "  <tbody>\n",
       "    <tr>\n",
       "      <th>0</th>\n",
       "      <td>1</td>\n",
       "      <td>14.23</td>\n",
       "      <td>1.71</td>\n",
       "    </tr>\n",
       "    <tr>\n",
       "      <th>1</th>\n",
       "      <td>1</td>\n",
       "      <td>13.20</td>\n",
       "      <td>1.78</td>\n",
       "    </tr>\n",
       "    <tr>\n",
       "      <th>2</th>\n",
       "      <td>1</td>\n",
       "      <td>13.16</td>\n",
       "      <td>2.36</td>\n",
       "    </tr>\n",
       "    <tr>\n",
       "      <th>3</th>\n",
       "      <td>1</td>\n",
       "      <td>14.37</td>\n",
       "      <td>1.95</td>\n",
       "    </tr>\n",
       "    <tr>\n",
       "      <th>4</th>\n",
       "      <td>1</td>\n",
       "      <td>13.24</td>\n",
       "      <td>2.59</td>\n",
       "    </tr>\n",
       "  </tbody>\n",
       "</table>\n",
       "</div>"
      ],
      "text/plain": [
       "   class_label  alcohol  malic acid\n",
       "0            1    14.23        1.71\n",
       "1            1    13.20        1.78\n",
       "2            1    13.16        2.36\n",
       "3            1    14.37        1.95\n",
       "4            1    13.24        2.59"
      ]
     },
     "execution_count": 3,
     "metadata": {},
     "output_type": "execute_result"
    }
   ],
   "source": [
    "df=pd.read_csv('wine_data.csv',header=None, usecols=[0,1,2])\n",
    "df.columns=['class_label','alcohol','malic acid']\n",
    "df.head()"
   ]
  },
  {
   "cell_type": "code",
   "execution_count": 4,
   "metadata": {},
   "outputs": [
    {
     "name": "stdout",
     "output_type": "stream",
     "text": [
      "<class 'pandas.core.frame.DataFrame'>\n",
      "RangeIndex: 178 entries, 0 to 177\n",
      "Data columns (total 3 columns):\n",
      " #   Column       Non-Null Count  Dtype  \n",
      "---  ------       --------------  -----  \n",
      " 0   class_label  178 non-null    int64  \n",
      " 1   alcohol      178 non-null    float64\n",
      " 2   malic acid   178 non-null    float64\n",
      "dtypes: float64(2), int64(1)\n",
      "memory usage: 4.3 KB\n"
     ]
    }
   ],
   "source": [
    "df.info()"
   ]
  },
  {
   "cell_type": "code",
   "execution_count": 5,
   "metadata": {},
   "outputs": [
    {
     "data": {
      "text/html": [
       "<div>\n",
       "<style scoped>\n",
       "    .dataframe tbody tr th:only-of-type {\n",
       "        vertical-align: middle;\n",
       "    }\n",
       "\n",
       "    .dataframe tbody tr th {\n",
       "        vertical-align: top;\n",
       "    }\n",
       "\n",
       "    .dataframe thead th {\n",
       "        text-align: right;\n",
       "    }\n",
       "</style>\n",
       "<table border=\"1\" class=\"dataframe\">\n",
       "  <thead>\n",
       "    <tr style=\"text-align: right;\">\n",
       "      <th></th>\n",
       "      <th>class_label</th>\n",
       "      <th>alcohol</th>\n",
       "      <th>malic acid</th>\n",
       "    </tr>\n",
       "  </thead>\n",
       "  <tbody>\n",
       "    <tr>\n",
       "      <th>count</th>\n",
       "      <td>178.000000</td>\n",
       "      <td>178.000000</td>\n",
       "      <td>178.000000</td>\n",
       "    </tr>\n",
       "    <tr>\n",
       "      <th>mean</th>\n",
       "      <td>1.938202</td>\n",
       "      <td>13.000618</td>\n",
       "      <td>2.336348</td>\n",
       "    </tr>\n",
       "    <tr>\n",
       "      <th>std</th>\n",
       "      <td>0.775035</td>\n",
       "      <td>0.811827</td>\n",
       "      <td>1.117146</td>\n",
       "    </tr>\n",
       "    <tr>\n",
       "      <th>min</th>\n",
       "      <td>1.000000</td>\n",
       "      <td>11.030000</td>\n",
       "      <td>0.740000</td>\n",
       "    </tr>\n",
       "    <tr>\n",
       "      <th>25%</th>\n",
       "      <td>1.000000</td>\n",
       "      <td>12.362500</td>\n",
       "      <td>1.602500</td>\n",
       "    </tr>\n",
       "    <tr>\n",
       "      <th>50%</th>\n",
       "      <td>2.000000</td>\n",
       "      <td>13.050000</td>\n",
       "      <td>1.865000</td>\n",
       "    </tr>\n",
       "    <tr>\n",
       "      <th>75%</th>\n",
       "      <td>3.000000</td>\n",
       "      <td>13.677500</td>\n",
       "      <td>3.082500</td>\n",
       "    </tr>\n",
       "    <tr>\n",
       "      <th>max</th>\n",
       "      <td>3.000000</td>\n",
       "      <td>14.830000</td>\n",
       "      <td>5.800000</td>\n",
       "    </tr>\n",
       "  </tbody>\n",
       "</table>\n",
       "</div>"
      ],
      "text/plain": [
       "       class_label     alcohol  malic acid\n",
       "count   178.000000  178.000000  178.000000\n",
       "mean      1.938202   13.000618    2.336348\n",
       "std       0.775035    0.811827    1.117146\n",
       "min       1.000000   11.030000    0.740000\n",
       "25%       1.000000   12.362500    1.602500\n",
       "50%       2.000000   13.050000    1.865000\n",
       "75%       3.000000   13.677500    3.082500\n",
       "max       3.000000   14.830000    5.800000"
      ]
     },
     "execution_count": 5,
     "metadata": {},
     "output_type": "execute_result"
    }
   ],
   "source": [
    "df.describe()"
   ]
  },
  {
   "cell_type": "code",
   "execution_count": 6,
   "metadata": {},
   "outputs": [
    {
     "data": {
      "text/plain": [
       "array([1, 2, 3], dtype=int64)"
      ]
     },
     "execution_count": 6,
     "metadata": {},
     "output_type": "execute_result"
    }
   ],
   "source": [
    "df['class_label'].unique()"
   ]
  },
  {
   "cell_type": "code",
   "execution_count": 7,
   "metadata": {},
   "outputs": [],
   "source": [
    "# kdeplot"
   ]
  },
  {
   "cell_type": "markdown",
   "metadata": {},
   "source": [
    "# kdeplot"
   ]
  },
  {
   "cell_type": "code",
   "execution_count": 8,
   "metadata": {},
   "outputs": [
    {
     "name": "stderr",
     "output_type": "stream",
     "text": [
      "C:\\Users\\Asus\\AppData\\Local\\Packages\\PythonSoftwareFoundation.Python.3.10_qbz5n2kfra8p0\\LocalCache\\local-packages\\Python310\\site-packages\\seaborn\\_oldcore.py:1498: FutureWarning: is_categorical_dtype is deprecated and will be removed in a future version. Use isinstance(dtype, CategoricalDtype) instead\n",
      "  if pd.api.types.is_categorical_dtype(vector):\n",
      "C:\\Users\\Asus\\AppData\\Local\\Packages\\PythonSoftwareFoundation.Python.3.10_qbz5n2kfra8p0\\LocalCache\\local-packages\\Python310\\site-packages\\seaborn\\_oldcore.py:1119: FutureWarning: use_inf_as_na option is deprecated and will be removed in a future version. Convert inf values to NaN before operating instead.\n",
      "  with pd.option_context('mode.use_inf_as_na', True):\n"
     ]
    },
    {
     "data": {
      "text/plain": [
       "<Axes: xlabel='alcohol', ylabel='Density'>"
      ]
     },
     "execution_count": 8,
     "metadata": {},
     "output_type": "execute_result"
    },
    {
     "data": {
      "image/png": "[encoded data removed]",
      "text/plain": [
       "<Figure size 640x480 with 1 Axes>"
      ]
     },
     "metadata": {},
     "output_type": "display_data"
    }
   ],
   "source": [
    "sns.kdeplot(df['alcohol'])"
   ]
  },
  {
   "cell_type": "code",
   "execution_count": 9,
   "metadata": {},
   "outputs": [
    {
     "name": "stderr",
     "output_type": "stream",
     "text": [
      "C:\\Users\\Asus\\AppData\\Local\\Packages\\PythonSoftwareFoundation.Python.3.10_qbz5n2kfra8p0\\LocalCache\\local-packages\\Python310\\site-packages\\seaborn\\_oldcore.py:1498: FutureWarning: is_categorical_dtype is deprecated and will be removed in a future version. Use isinstance(dtype, CategoricalDtype) instead\n",
      "  if pd.api.types.is_categorical_dtype(vector):\n",
      "C:\\Users\\Asus\\AppData\\Local\\Packages\\PythonSoftwareFoundation.Python.3.10_qbz5n2kfra8p0\\LocalCache\\local-packages\\Python310\\site-packages\\seaborn\\_oldcore.py:1119: FutureWarning: use_inf_as_na option is deprecated and will be removed in a future version. Convert inf values to NaN before operating instead.\n",
      "  with pd.option_context('mode.use_inf_as_na', True):\n"
     ]
    },
    {
     "data": {
      "text/plain": [
       "<Axes: xlabel='malic acid', ylabel='Density'>"
      ]
     },
     "execution_count": 9,
     "metadata": {},
     "output_type": "execute_result"
    },
    {
     "data": {
      "image/png": "[encoded data removed]",
      "text/plain": [
       "<Figure size 640x480 with 1 Axes>"
      ]
     },
     "metadata": {},
     "output_type": "display_data"
    }
   ],
   "source": [
    "sns.kdeplot(df['malic acid'])"
   ]
  },
  {
   "cell_type": "code",
   "execution_count": 10,
   "metadata": {},
   "outputs": [
    {
     "name": "stderr",
     "output_type": "stream",
     "text": [
      "C:\\Users\\Asus\\AppData\\Local\\Packages\\PythonSoftwareFoundation.Python.3.10_qbz5n2kfra8p0\\LocalCache\\local-packages\\Python310\\site-packages\\seaborn\\_oldcore.py:1498: FutureWarning: is_categorical_dtype is deprecated and will be removed in a future version. Use isinstance(dtype, CategoricalDtype) instead\n",
      "  if pd.api.types.is_categorical_dtype(vector):\n",
      "C:\\Users\\Asus\\AppData\\Local\\Packages\\PythonSoftwareFoundation.Python.3.10_qbz5n2kfra8p0\\LocalCache\\local-packages\\Python310\\site-packages\\seaborn\\_oldcore.py:1498: FutureWarning: is_categorical_dtype is deprecated and will be removed in a future version. Use isinstance(dtype, CategoricalDtype) instead\n",
      "  if pd.api.types.is_categorical_dtype(vector):\n",
      "C:\\Users\\Asus\\AppData\\Local\\Packages\\PythonSoftwareFoundation.Python.3.10_qbz5n2kfra8p0\\LocalCache\\local-packages\\Python310\\site-packages\\seaborn\\_oldcore.py:1498: FutureWarning: is_categorical_dtype is deprecated and will be removed in a future version. Use isinstance(dtype, CategoricalDtype) instead\n",
      "  if pd.api.types.is_categorical_dtype(vector):\n",
      "C:\\Users\\Asus\\AppData\\Local\\Packages\\PythonSoftwareFoundation.Python.3.10_qbz5n2kfra8p0\\LocalCache\\local-packages\\Python310\\site-packages\\seaborn\\_oldcore.py:1498: FutureWarning: is_categorical_dtype is deprecated and will be removed in a future version. Use isinstance(dtype, CategoricalDtype) instead\n",
      "  if pd.api.types.is_categorical_dtype(vector):\n"
     ]
    },
    {
     "data": {
      "text/plain": [
       "<Axes: xlabel='alcohol', ylabel='malic acid'>"
      ]
     },
     "execution_count": 10,
     "metadata": {},
     "output_type": "execute_result"
    },
    {
     "data": {
      "image/png": "[encoded data removed]",
      "text/plain": [
       "<Figure size 640x480 with 1 Axes>"
      ]
     },
     "metadata": {},
     "output_type": "display_data"
    }
   ],
   "source": [
    "color_dict={1:'blue',2:'green',3:'red'}\n",
    "sns.scatterplot(x=df['alcohol'],y=df['malic acid'],hue=df['class_label'],palette=color_dict)"
   ]
  },
  {
   "cell_type": "code",
   "execution_count": 14,
   "metadata": {},
   "outputs": [],
   "source": [
    "x=df.iloc[: , 1:]\n",
    "y=df['class_label']\n",
    "from sklearn.model_selection import train_test_split\n",
    "x_train,x_test,y_train,y_test=train_test_split(x,y,test_size=.20,random_state=42)"
   ]
  },
  {
   "cell_type": "code",
   "execution_count": 17,
   "metadata": {},
   "outputs": [
    {
     "data": {
      "text/plain": [
       "(133, 2)"
      ]
     },
     "execution_count": 17,
     "metadata": {},
     "output_type": "execute_result"
    }
   ],
   "source": [
    "x_train.shape"
   ]
  },
  {
   "cell_type": "code",
   "execution_count": 18,
   "metadata": {},
   "outputs": [
    {
     "data": {
      "text/plain": [
       "(45, 2)"
      ]
     },
     "execution_count": 18,
     "metadata": {},
     "output_type": "execute_result"
    }
   ],
   "source": [
    "x_test.shape"
   ]
  },
  {
   "cell_type": "code",
   "execution_count": 19,
   "metadata": {},
   "outputs": [
    {
     "data": {
      "text/plain": [
       "(133,)"
      ]
     },
     "execution_count": 19,
     "metadata": {},
     "output_type": "execute_result"
    }
   ],
   "source": [
    "y_train.shape"
   ]
  },
  {
   "cell_type": "code",
   "execution_count": 20,
   "metadata": {},
   "outputs": [
    {
     "data": {
      "text/plain": [
       "(45,)"
      ]
     },
     "execution_count": 20,
     "metadata": {},
     "output_type": "execute_result"
    }
   ],
   "source": [
    "y_test.shape"
   ]
  },
  {
   "cell_type": "markdown",
   "metadata": {},
   "source": [
    "# min max scaling"
   ]
  },
  {
   "cell_type": "code",
   "execution_count": 59,
   "metadata": {},
   "outputs": [],
   "source": [
    "from sklearn.preprocessing import MinMaxScaler\n",
    "# creating object of minmaxscaling class\n",
    "scaled=MinMaxScaler()\n",
    "\n",
    "#fit only x_train \n",
    "x_train_scaled=scaled.fit(x_train)\n",
    "\n",
    "# transform on both x_train and x_test\n",
    "x_train_scaled=scaled.transform(x_train)\n",
    "x_test_scaled=scaled.transform(x_test)"
   ]
  },
  {
   "cell_type": "code",
   "execution_count": 60,
   "metadata": {},
   "outputs": [
    {
     "data": {
      "text/plain": [
       "array([[0.56052632, 0.299389  ],\n",
       "       [0.27631579, 0.24236253],\n",
       "       [0.36578947, 0.7209776 ],\n",
       "       [0.40789474, 0.0814664 ],\n",
       "       [0.73684211, 0.15478615],\n",
       "       [0.52631579, 0.00203666],\n",
       "       [0.83947368, 0.16496945],\n",
       "       [0.62105263, 0.17922607],\n",
       "       [0.57894737, 0.49083503],\n",
       "       [0.64736842, 0.54989817],\n",
       "       [0.38947368, 0.17107943],\n",
       "       [0.34210526, 0.0203666 ],\n",
       "       [0.59210526, 0.15274949],\n",
       "       [0.33157895, 0.39511202],\n",
       "       [0.70526316, 0.19755601],\n",
       "       [0.75      , 0.84521385],\n",
       "       [0.33157895, 0.10590631],\n",
       "       [0.31052632, 0.0610998 ],\n",
       "       [0.47105263, 0.50509165],\n",
       "       [0.81315789, 0.12016293],\n",
       "       [0.88421053, 0.19959267],\n",
       "       [0.59736842, 0.16904277],\n",
       "       [0.32105263, 0.6089613 ],\n",
       "       [0.58157895, 0.34623218],\n",
       "       [0.69736842, 0.19144603],\n",
       "       [0.37894737, 0.12830957],\n",
       "       [0.30789474, 0.43584521],\n",
       "       [0.16578947, 0.20162933],\n",
       "       [0.80789474, 0.2586558 ],\n",
       "       [0.48421053, 0.75763747],\n",
       "       [0.53157895, 1.        ],\n",
       "       [0.84210526, 0.16700611],\n",
       "       [0.65526316, 0.46435845],\n",
       "       [0.36842105, 0.13034623],\n",
       "       [0.3       , 0.11405295],\n",
       "       [0.53157895, 0.17922607],\n",
       "       [0.20526316, 0.25050916],\n",
       "       [0.74736842, 0.20570265],\n",
       "       [0.66578947, 0.16700611],\n",
       "       [0.2       , 0.25254582],\n",
       "       [0.53157895, 0.23625255],\n",
       "       [0.47894737, 0.14460285],\n",
       "       [0.46842105, 0.2892057 ],\n",
       "       [0.44473684, 0.18737271],\n",
       "       [0.43947368, 0.60692464],\n",
       "       [0.21315789, 0.        ],\n",
       "       [0.83947368, 0.63136456],\n",
       "       [0.41315789, 0.09164969],\n",
       "       [0.29736842, 0.14663951],\n",
       "       [0.11052632, 0.30753564],\n",
       "       [0.70526316, 0.9694501 ],\n",
       "       [0.47894737, 0.48472505],\n",
       "       [0.75526316, 0.16089613],\n",
       "       [0.15526316, 0.22403259],\n",
       "       [0.41315789, 0.3197556 ],\n",
       "       [0.63684211, 0.57230143],\n",
       "       [0.42368421, 0.09572301],\n",
       "       [0.51578947, 0.15885947],\n",
       "       [0.71842105, 0.13034623],\n",
       "       [0.27368421, 0.2586558 ],\n",
       "       [0.43947368, 0.54175153],\n",
       "       [0.47631579, 0.42158859],\n",
       "       [0.69473684, 0.07331976],\n",
       "       [0.56315789, 0.34623218],\n",
       "       [0.19210526, 0.36456212],\n",
       "       [0.        , 0.12627291],\n",
       "       [0.36578947, 0.33808554],\n",
       "       [0.72105263, 0.20570265],\n",
       "       [0.83421053, 0.17718941],\n",
       "       [0.35      , 0.598778  ],\n",
       "       [0.87894737, 0.21588595],\n",
       "       [0.71052632, 0.70672098],\n",
       "       [0.76578947, 0.17107943],\n",
       "       [0.64473684, 0.18737271],\n",
       "       [0.25526316, 0.00610998],\n",
       "       [0.21315789, 0.40733198],\n",
       "       [0.65263158, 0.18533605],\n",
       "       [0.88157895, 0.54989817],\n",
       "       [0.79736842, 0.25661914],\n",
       "       [0.22105263, 0.69653768],\n",
       "       [0.58157895, 0.6293279 ],\n",
       "       [0.33157895, 0.14663951],\n",
       "       [0.32105263, 0.78004073],\n",
       "       [0.11315789, 0.58044807],\n",
       "       [0.25526316, 0.12627291],\n",
       "       [0.53157895, 0.60488798],\n",
       "       [0.73947368, 0.65784114],\n",
       "       [0.7       , 0.48268839],\n",
       "       [0.27631579, 0.08961303],\n",
       "       [1.        , 0.15274949],\n",
       "       [0.97894737, 0.17107943],\n",
       "       [0.35263158, 0.0101833 ],\n",
       "       [0.54736842, 0.20570265],\n",
       "       [0.48684211, 0.42769857],\n",
       "       [0.73684211, 0.13849287],\n",
       "       [0.64736842, 0.15682281],\n",
       "       [0.56315789, 0.87576375],\n",
       "       [0.38947368, 0.0712831 ],\n",
       "       [0.60263158, 0.47861507],\n",
       "       [0.50789474, 0.52138493],\n",
       "       [0.35263158, 0.04887984],\n",
       "       [0.71315789, 0.15885947],\n",
       "       [0.44473684, 0.17515275],\n",
       "       [0.53157895, 0.17107943],\n",
       "       [0.58947368, 0.6904277 ],\n",
       "       [0.70789474, 0.10997963],\n",
       "       [0.80789474, 0.23014257],\n",
       "       [0.16052632, 0.23828921],\n",
       "       [0.5       , 0.59266802],\n",
       "       [0.59473684, 0.21995927],\n",
       "       [0.82368421, 0.3299389 ],\n",
       "       [0.26578947, 0.69450102],\n",
       "       [0.53157895, 0.15478615],\n",
       "       [0.37368421, 0.43584521],\n",
       "       [0.67105263, 0.34419552],\n",
       "       [0.57105263, 0.18126273],\n",
       "       [0.73421053, 0.17515275],\n",
       "       [0.53947368, 0.61303462],\n",
       "       [0.48157895, 0.09368635],\n",
       "       [0.46315789, 0.36252546],\n",
       "       [0.20789474, 0.16904277],\n",
       "       [0.33157895, 0.46435845],\n",
       "       [0.20789474, 0.11812627],\n",
       "       [0.16315789, 0.15885947],\n",
       "       [0.24473684, 0.0407332 ],\n",
       "       [0.13947368, 0.23625255],\n",
       "       [0.81578947, 0.65376782],\n",
       "       [0.79736842, 0.15071283],\n",
       "       [0.74473684, 0.12627291],\n",
       "       [0.32105263, 0.17107943],\n",
       "       [0.88157895, 0.19959267],\n",
       "       [0.43684211, 0.13034623],\n",
       "       [0.34473684, 0.31771894]])"
      ]
     },
     "execution_count": 60,
     "metadata": {},
     "output_type": "execute_result"
    }
   ],
   "source": [
    "x_train_scaled"
   ]
  },
  {
   "cell_type": "code",
   "execution_count": 61,
   "metadata": {},
   "outputs": [
    {
     "data": {
      "text/plain": [
       "array([[ 0.68684211,  0.45010183],\n",
       "       [ 0.83684211,  0.64154786],\n",
       "       [ 0.5       ,  0.3910387 ],\n",
       "       [ 0.71052632,  0.12423625],\n",
       "       [ 0.35263158,  0.05702648],\n",
       "       [ 0.86052632,  0.20977597],\n",
       "       [ 0.25526316,  0.51731161],\n",
       "       [ 0.62368421,  0.61507128],\n",
       "       [ 0.15263158,  0.09368635],\n",
       "       [ 0.61315789,  0.3401222 ],\n",
       "       [ 0.65      ,  0.18737271],\n",
       "       [ 0.65      ,  0.45417515],\n",
       "       [ 0.62631579,  0.60081466],\n",
       "       [ 0.45789474,  0.51731161],\n",
       "       [ 0.68421053,  0.18737271],\n",
       "       [ 0.39210526,  0.31364562],\n",
       "       [ 0.1       , -0.0305499 ],\n",
       "       [ 0.27631579,  0.04887984],\n",
       "       [ 0.74473684,  0.09368635],\n",
       "       [ 0.27631579,  0.10183299],\n",
       "       [ 0.83157895,  0.14256619],\n",
       "       [ 0.54736842,  0.02443992],\n",
       "       [ 0.34210526,  0.04276986],\n",
       "       [ 0.62368421,  0.75560081],\n",
       "       [ 0.45789474,  0.30549898],\n",
       "       [ 0.72368421,  0.3808554 ],\n",
       "       [ 0.36578947,  0.14663951],\n",
       "       [ 0.35263158,  0.06517312],\n",
       "       [ 0.27631579,  0.19144603],\n",
       "       [ 0.66578947,  0.17107943],\n",
       "       [ 0.78684211,  0.16089613],\n",
       "       [ 0.35263158,  0.15071283],\n",
       "       [ 0.56052632,  0.54582485],\n",
       "       [ 0.67105263,  0.15682281],\n",
       "       [ 0.71578947,  0.17107943],\n",
       "       [ 0.75      ,  0.20366599],\n",
       "       [ 0.87105263,  0.16089613],\n",
       "       [ 0.39473684,  0.94093686],\n",
       "       [ 0.35263158,  0.03665988],\n",
       "       [ 0.64473684,  0.15885947],\n",
       "       [ 0.53684211,  0.12423625],\n",
       "       [ 0.31315789,  0.0814664 ],\n",
       "       [ 0.43157895,  0.01832994],\n",
       "       [ 0.60789474,  0.0101833 ],\n",
       "       [ 0.68157895,  0.82688391]])"
      ]
     },
     "execution_count": 61,
     "metadata": {},
     "output_type": "execute_result"
    }
   ],
   "source": [
    "x_test_scaled"
   ]
  },
  {
   "cell_type": "code",
   "execution_count": 62,
   "metadata": {},
   "outputs": [
    {
     "data": {
      "text/html": [
       "<div>\n",
       "<style scoped>\n",
       "    .dataframe tbody tr th:only-of-type {\n",
       "        vertical-align: middle;\n",
       "    }\n",
       "\n",
       "    .dataframe tbody tr th {\n",
       "        vertical-align: top;\n",
       "    }\n",
       "\n",
       "    .dataframe thead th {\n",
       "        text-align: right;\n",
       "    }\n",
       "</style>\n",
       "<table border=\"1\" class=\"dataframe\">\n",
       "  <thead>\n",
       "    <tr style=\"text-align: right;\">\n",
       "      <th></th>\n",
       "      <th>alcohol</th>\n",
       "      <th>malic acid</th>\n",
       "    </tr>\n",
       "  </thead>\n",
       "  <tbody>\n",
       "    <tr>\n",
       "      <th>0</th>\n",
       "      <td>0.560526</td>\n",
       "      <td>0.299389</td>\n",
       "    </tr>\n",
       "    <tr>\n",
       "      <th>1</th>\n",
       "      <td>0.276316</td>\n",
       "      <td>0.242363</td>\n",
       "    </tr>\n",
       "    <tr>\n",
       "      <th>2</th>\n",
       "      <td>0.365789</td>\n",
       "      <td>0.720978</td>\n",
       "    </tr>\n",
       "    <tr>\n",
       "      <th>3</th>\n",
       "      <td>0.407895</td>\n",
       "      <td>0.081466</td>\n",
       "    </tr>\n",
       "    <tr>\n",
       "      <th>4</th>\n",
       "      <td>0.736842</td>\n",
       "      <td>0.154786</td>\n",
       "    </tr>\n",
       "    <tr>\n",
       "      <th>...</th>\n",
       "      <td>...</td>\n",
       "      <td>...</td>\n",
       "    </tr>\n",
       "    <tr>\n",
       "      <th>128</th>\n",
       "      <td>0.744737</td>\n",
       "      <td>0.126273</td>\n",
       "    </tr>\n",
       "    <tr>\n",
       "      <th>129</th>\n",
       "      <td>0.321053</td>\n",
       "      <td>0.171079</td>\n",
       "    </tr>\n",
       "    <tr>\n",
       "      <th>130</th>\n",
       "      <td>0.881579</td>\n",
       "      <td>0.199593</td>\n",
       "    </tr>\n",
       "    <tr>\n",
       "      <th>131</th>\n",
       "      <td>0.436842</td>\n",
       "      <td>0.130346</td>\n",
       "    </tr>\n",
       "    <tr>\n",
       "      <th>132</th>\n",
       "      <td>0.344737</td>\n",
       "      <td>0.317719</td>\n",
       "    </tr>\n",
       "  </tbody>\n",
       "</table>\n",
       "<p>133 rows × 2 columns</p>\n",
       "</div>"
      ],
      "text/plain": [
       "      alcohol  malic acid\n",
       "0    0.560526    0.299389\n",
       "1    0.276316    0.242363\n",
       "2    0.365789    0.720978\n",
       "3    0.407895    0.081466\n",
       "4    0.736842    0.154786\n",
       "..        ...         ...\n",
       "128  0.744737    0.126273\n",
       "129  0.321053    0.171079\n",
       "130  0.881579    0.199593\n",
       "131  0.436842    0.130346\n",
       "132  0.344737    0.317719\n",
       "\n",
       "[133 rows x 2 columns]"
      ]
     },
     "execution_count": 62,
     "metadata": {},
     "output_type": "execute_result"
    }
   ],
   "source": [
    "# converting into the dataframe\n",
    "x_train_scaled=pd.DataFrame(x_train_scaled,columns=x_train.columns)\n",
    "x_test_scaled=pd.DataFrame(x_test_scaled,columns=x_test.columns)\n",
    "x_train_scaled"
   ]
  },
  {
   "cell_type": "code",
   "execution_count": 63,
   "metadata": {},
   "outputs": [
    {
     "data": {
      "text/html": [
       "<div>\n",
       "<style scoped>\n",
       "    .dataframe tbody tr th:only-of-type {\n",
       "        vertical-align: middle;\n",
       "    }\n",
       "\n",
       "    .dataframe tbody tr th {\n",
       "        vertical-align: top;\n",
       "    }\n",
       "\n",
       "    .dataframe thead th {\n",
       "        text-align: right;\n",
       "    }\n",
       "</style>\n",
       "<table border=\"1\" class=\"dataframe\">\n",
       "  <thead>\n",
       "    <tr style=\"text-align: right;\">\n",
       "      <th></th>\n",
       "      <th>alcohol</th>\n",
       "      <th>malic acid</th>\n",
       "    </tr>\n",
       "  </thead>\n",
       "  <tbody>\n",
       "    <tr>\n",
       "      <th>count</th>\n",
       "      <td>133.0</td>\n",
       "      <td>133.0</td>\n",
       "    </tr>\n",
       "    <tr>\n",
       "      <th>mean</th>\n",
       "      <td>13.0</td>\n",
       "      <td>2.4</td>\n",
       "    </tr>\n",
       "    <tr>\n",
       "      <th>std</th>\n",
       "      <td>0.8</td>\n",
       "      <td>1.1</td>\n",
       "    </tr>\n",
       "    <tr>\n",
       "      <th>min</th>\n",
       "      <td>11.0</td>\n",
       "      <td>0.9</td>\n",
       "    </tr>\n",
       "    <tr>\n",
       "      <th>25%</th>\n",
       "      <td>12.3</td>\n",
       "      <td>1.6</td>\n",
       "    </tr>\n",
       "    <tr>\n",
       "      <th>50%</th>\n",
       "      <td>13.0</td>\n",
       "      <td>1.9</td>\n",
       "    </tr>\n",
       "    <tr>\n",
       "      <th>75%</th>\n",
       "      <td>13.7</td>\n",
       "      <td>3.2</td>\n",
       "    </tr>\n",
       "    <tr>\n",
       "      <th>max</th>\n",
       "      <td>14.8</td>\n",
       "      <td>5.8</td>\n",
       "    </tr>\n",
       "  </tbody>\n",
       "</table>\n",
       "</div>"
      ],
      "text/plain": [
       "       alcohol  malic acid\n",
       "count    133.0       133.0\n",
       "mean      13.0         2.4\n",
       "std        0.8         1.1\n",
       "min       11.0         0.9\n",
       "25%       12.3         1.6\n",
       "50%       13.0         1.9\n",
       "75%       13.7         3.2\n",
       "max       14.8         5.8"
      ]
     },
     "execution_count": 63,
     "metadata": {},
     "output_type": "execute_result"
    }
   ],
   "source": [
    "np.round(x_train.describe(),1)"
   ]
  },
  {
   "cell_type": "code",
   "execution_count": 64,
   "metadata": {},
   "outputs": [
    {
     "data": {
      "text/html": [
       "<div>\n",
       "<style scoped>\n",
       "    .dataframe tbody tr th:only-of-type {\n",
       "        vertical-align: middle;\n",
       "    }\n",
       "\n",
       "    .dataframe tbody tr th {\n",
       "        vertical-align: top;\n",
       "    }\n",
       "\n",
       "    .dataframe thead th {\n",
       "        text-align: right;\n",
       "    }\n",
       "</style>\n",
       "<table border=\"1\" class=\"dataframe\">\n",
       "  <thead>\n",
       "    <tr style=\"text-align: right;\">\n",
       "      <th></th>\n",
       "      <th>alcohol</th>\n",
       "      <th>malic acid</th>\n",
       "    </tr>\n",
       "  </thead>\n",
       "  <tbody>\n",
       "    <tr>\n",
       "      <th>count</th>\n",
       "      <td>45.0</td>\n",
       "      <td>45.0</td>\n",
       "    </tr>\n",
       "    <tr>\n",
       "      <th>mean</th>\n",
       "      <td>0.5</td>\n",
       "      <td>0.3</td>\n",
       "    </tr>\n",
       "    <tr>\n",
       "      <th>std</th>\n",
       "      <td>0.2</td>\n",
       "      <td>0.2</td>\n",
       "    </tr>\n",
       "    <tr>\n",
       "      <th>min</th>\n",
       "      <td>0.1</td>\n",
       "      <td>-0.0</td>\n",
       "    </tr>\n",
       "    <tr>\n",
       "      <th>25%</th>\n",
       "      <td>0.4</td>\n",
       "      <td>0.1</td>\n",
       "    </tr>\n",
       "    <tr>\n",
       "      <th>50%</th>\n",
       "      <td>0.6</td>\n",
       "      <td>0.2</td>\n",
       "    </tr>\n",
       "    <tr>\n",
       "      <th>75%</th>\n",
       "      <td>0.7</td>\n",
       "      <td>0.4</td>\n",
       "    </tr>\n",
       "    <tr>\n",
       "      <th>max</th>\n",
       "      <td>0.9</td>\n",
       "      <td>0.9</td>\n",
       "    </tr>\n",
       "  </tbody>\n",
       "</table>\n",
       "</div>"
      ],
      "text/plain": [
       "       alcohol  malic acid\n",
       "count     45.0        45.0\n",
       "mean       0.5         0.3\n",
       "std        0.2         0.2\n",
       "min        0.1        -0.0\n",
       "25%        0.4         0.1\n",
       "50%        0.6         0.2\n",
       "75%        0.7         0.4\n",
       "max        0.9         0.9"
      ]
     },
     "execution_count": 64,
     "metadata": {},
     "output_type": "execute_result"
    }
   ],
   "source": [
    "np.round(x_test_scaled.describe(),1)"
   ]
  },
  {
   "cell_type": "markdown",
   "metadata": {},
   "source": [
    "# before and after scaling"
   ]
  },
  {
   "cell_type": "code",
   "execution_count": 65,
   "metadata": {},
   "outputs": [
    {
     "data": {
      "image/png": "[encoded data removed]",
      "text/plain": [
       "<Figure size 1200x500 with 2 Axes>"
      ]
     },
     "metadata": {},
     "output_type": "display_data"
    }
   ],
   "source": [
    "fig, (ax1,ax2)= plt.subplots(ncols=2, figsize=(12,5))\n",
    "ax1.scatter(x_train['alcohol'],x_train['malic acid'])\n",
    "ax1.set_title('Before Scaling')\n",
    "ax2.scatter(x_train_scaled['alcohol'],x_train_scaled['malic acid'], color='red')\n",
    "ax2.set_title('After Scaling')\n",
    "plt.show()"
   ]
  },
  {
   "cell_type": "markdown",
   "metadata": {},
   "source": [
    "# kdeplot before and after scaling"
   ]
  },
  {
   "cell_type": "code",
   "execution_count": 66,
   "metadata": {},
   "outputs": [
    {
     "name": "stderr",
     "output_type": "stream",
     "text": [
      "C:\\Users\\Asus\\AppData\\Local\\Packages\\PythonSoftwareFoundation.Python.3.10_qbz5n2kfra8p0\\LocalCache\\local-packages\\Python310\\site-packages\\seaborn\\_oldcore.py:1498: FutureWarning: is_categorical_dtype is deprecated and will be removed in a future version. Use isinstance(dtype, CategoricalDtype) instead\n",
      "  if pd.api.types.is_categorical_dtype(vector):\n",
      "C:\\Users\\Asus\\AppData\\Local\\Packages\\PythonSoftwareFoundation.Python.3.10_qbz5n2kfra8p0\\LocalCache\\local-packages\\Python310\\site-packages\\seaborn\\_oldcore.py:1119: FutureWarning: use_inf_as_na option is deprecated and will be removed in a future version. Convert inf values to NaN before operating instead.\n",
      "  with pd.option_context('mode.use_inf_as_na', True):\n",
      "C:\\Users\\Asus\\AppData\\Local\\Packages\\PythonSoftwareFoundation.Python.3.10_qbz5n2kfra8p0\\LocalCache\\local-packages\\Python310\\site-packages\\seaborn\\_oldcore.py:1498: FutureWarning: is_categorical_dtype is deprecated and will be removed in a future version. Use isinstance(dtype, CategoricalDtype) instead\n",
      "  if pd.api.types.is_categorical_dtype(vector):\n",
      "C:\\Users\\Asus\\AppData\\Local\\Packages\\PythonSoftwareFoundation.Python.3.10_qbz5n2kfra8p0\\LocalCache\\local-packages\\Python310\\site-packages\\seaborn\\_oldcore.py:1119: FutureWarning: use_inf_as_na option is deprecated and will be removed in a future version. Convert inf values to NaN before operating instead.\n",
      "  with pd.option_context('mode.use_inf_as_na', True):\n",
      "C:\\Users\\Asus\\AppData\\Local\\Packages\\PythonSoftwareFoundation.Python.3.10_qbz5n2kfra8p0\\LocalCache\\local-packages\\Python310\\site-packages\\seaborn\\_oldcore.py:1498: FutureWarning: is_categorical_dtype is deprecated and will be removed in a future version. Use isinstance(dtype, CategoricalDtype) instead\n",
      "  if pd.api.types.is_categorical_dtype(vector):\n",
      "C:\\Users\\Asus\\AppData\\Local\\Packages\\PythonSoftwareFoundation.Python.3.10_qbz5n2kfra8p0\\LocalCache\\local-packages\\Python310\\site-packages\\seaborn\\_oldcore.py:1119: FutureWarning: use_inf_as_na option is deprecated and will be removed in a future version. Convert inf values to NaN before operating instead.\n",
      "  with pd.option_context('mode.use_inf_as_na', True):\n",
      "C:\\Users\\Asus\\AppData\\Local\\Packages\\PythonSoftwareFoundation.Python.3.10_qbz5n2kfra8p0\\LocalCache\\local-packages\\Python310\\site-packages\\seaborn\\_oldcore.py:1498: FutureWarning: is_categorical_dtype is deprecated and will be removed in a future version. Use isinstance(dtype, CategoricalDtype) instead\n",
      "  if pd.api.types.is_categorical_dtype(vector):\n",
      "C:\\Users\\Asus\\AppData\\Local\\Packages\\PythonSoftwareFoundation.Python.3.10_qbz5n2kfra8p0\\LocalCache\\local-packages\\Python310\\site-packages\\seaborn\\_oldcore.py:1119: FutureWarning: use_inf_as_na option is deprecated and will be removed in a future version. Convert inf values to NaN before operating instead.\n",
      "  with pd.option_context('mode.use_inf_as_na', True):\n"
     ]
    },
    {
     "data": {
      "image/png": "[encoded data removed]",
      "text/plain": [
       "<Figure size 1200x500 with 2 Axes>"
      ]
     },
     "metadata": {},
     "output_type": "display_data"
    }
   ],
   "source": [
    "fig, (ax1,ax2)= plt.subplots(ncols=2, figsize=(12,5))\n",
    "\n",
    "ax1.set_title(\"Before Scaling\")\n",
    "sns.kdeplot(x_train['alcohol'],ax=ax1)\n",
    "sns.kdeplot(x_test['malic acid'],ax=ax1)\n",
    "\n",
    "ax2.set_title('After Scaling')\n",
    "sns.kdeplot(x_train_scaled['alcohol'], ax=ax2)\n",
    "sns.kdeplot(x_train_scaled['malic acid'], ax=ax2)\n",
    "plt.show()"
   ]
  },
  {
   "cell_type": "markdown",
   "metadata": {},
   "source": [
    "# max absolute scaling (sparse data)"
   ]
  },
  {
   "cell_type": "code",
   "execution_count": 67,
   "metadata": {},
   "outputs": [],
   "source": [
    "from sklearn.preprocessing import MaxAbsScaler\n",
    "\n",
    "scaler=MaxAbsScaler()\n",
    "\n",
    "#fit \n",
    "x_train_scaled1=scaler.fit(x_train)\n",
    "\n",
    "# transform\n",
    "x_test_scaled1=scaler.transform(x_train)\n",
    "x_test_scaled1=scaler.transform(x_test)"
   ]
  },
  {
   "cell_type": "code",
   "execution_count": 68,
   "metadata": {},
   "outputs": [
    {
     "data": {
      "text/html": [
       "<style>#sk-container-id-3 {color: black;}#sk-container-id-3 pre{padding: 0;}#sk-container-id-3 div.sk-toggleable {background-color: white;}#sk-container-id-3 label.sk-toggleable__label {cursor: pointer;display: block;width: 100%;margin-bottom: 0;padding: 0.3em;box-sizing: border-box;text-align: center;}#sk-container-id-3 label.sk-toggleable__label-arrow:before {content: \"▸\";float: left;margin-right: 0.25em;color: #696969;}#sk-container-id-3 label.sk-toggleable__label-arrow:hover:before {color: black;}#sk-container-id-3 div.sk-estimator:hover label.sk-toggleable__label-arrow:before {color: black;}#sk-container-id-3 div.sk-toggleable__content {max-height: 0;max-width: 0;overflow: hidden;text-align: left;background-color: #f0f8ff;}#sk-container-id-3 div.sk-toggleable__content pre {margin: 0.2em;color: black;border-radius: 0.25em;background-color: #f0f8ff;}#sk-container-id-3 input.sk-toggleable__control:checked~div.sk-toggleable__content {max-height: 200px;max-width: 100%;overflow: auto;}#sk-container-id-3 input.sk-toggleable__control:checked~label.sk-toggleable__label-arrow:before {content: \"▾\";}#sk-container-id-3 div.sk-estimator input.sk-toggleable__control:checked~label.sk-toggleable__label {background-color: #d4ebff;}#sk-container-id-3 div.sk-label input.sk-toggleable__control:checked~label.sk-toggleable__label {background-color: #d4ebff;}#sk-container-id-3 input.sk-hidden--visually {border: 0;clip: rect(1px 1px 1px 1px);clip: rect(1px, 1px, 1px, 1px);height: 1px;margin: -1px;overflow: hidden;padding: 0;position: absolute;width: 1px;}#sk-container-id-3 div.sk-estimator {font-family: monospace;background-color: #f0f8ff;border: 1px dotted black;border-radius: 0.25em;box-sizing: border-box;margin-bottom: 0.5em;}#sk-container-id-3 div.sk-estimator:hover {background-color: #d4ebff;}#sk-container-id-3 div.sk-parallel-item::after {content: \"\";width: 100%;border-bottom: 1px solid gray;flex-grow: 1;}#sk-container-id-3 div.sk-label:hover label.sk-toggleable__label {background-color: #d4ebff;}#sk-container-id-3 div.sk-serial::before {content: \"\";position: absolute;border-left: 1px solid gray;box-sizing: border-box;top: 0;bottom: 0;left: 50%;z-index: 0;}#sk-container-id-3 div.sk-serial {display: flex;flex-direction: column;align-items: center;background-color: white;padding-right: 0.2em;padding-left: 0.2em;position: relative;}#sk-container-id-3 div.sk-item {position: relative;z-index: 1;}#sk-container-id-3 div.sk-parallel {display: flex;align-items: stretch;justify-content: center;background-color: white;position: relative;}#sk-container-id-3 div.sk-item::before, #sk-container-id-3 div.sk-parallel-item::before {content: \"\";position: absolute;border-left: 1px solid gray;box-sizing: border-box;top: 0;bottom: 0;left: 50%;z-index: -1;}#sk-container-id-3 div.sk-parallel-item {display: flex;flex-direction: column;z-index: 1;position: relative;background-color: white;}#sk-container-id-3 div.sk-parallel-item:first-child::after {align-self: flex-end;width: 50%;}#sk-container-id-3 div.sk-parallel-item:last-child::after {align-self: flex-start;width: 50%;}#sk-container-id-3 div.sk-parallel-item:only-child::after {width: 0;}#sk-container-id-3 div.sk-dashed-wrapped {border: 1px dashed gray;margin: 0 0.4em 0.5em 0.4em;box-sizing: border-box;padding-bottom: 0.4em;background-color: white;}#sk-container-id-3 div.sk-label label {font-family: monospace;font-weight: bold;display: inline-block;line-height: 1.2em;}#sk-container-id-3 div.sk-label-container {text-align: center;}#sk-container-id-3 div.sk-container {/* jupyter's `normalize.less` sets `[hidden] { display: none; }` but bootstrap.min.css set `[hidden] { display: none !important; }` so we also need the `!important` here to be able to override the default hidden behavior on the sphinx rendered scikit-learn.org. See: https://github.com/scikit-learn/scikit-learn/issues/21755 */display: inline-block !important;position: relative;}#sk-container-id-3 div.sk-text-repr-fallback {display: none;}</style><div id=\"sk-container-id-3\" class=\"sk-top-container\"><div class=\"sk-text-repr-fallback\"><pre>MaxAbsScaler()</pre><b>In a Jupyter environment, please rerun this cell to show the HTML representation or trust the notebook. <br />On GitHub, the HTML representation is unable to render, please try loading this page with nbviewer.org.</b></div><div class=\"sk-container\" hidden><div class=\"sk-item\"><div class=\"sk-estimator sk-toggleable\"><input class=\"sk-toggleable__control sk-hidden--visually\" id=\"sk-estimator-id-3\" type=\"checkbox\" checked><label for=\"sk-estimator-id-3\" class=\"sk-toggleable__label sk-toggleable__label-arrow\">MaxAbsScaler</label><div class=\"sk-toggleable__content\"><pre>MaxAbsScaler()</pre></div></div></div></div></div>"
      ],
      "text/plain": [
       "MaxAbsScaler()"
      ]
     },
     "execution_count": 68,
     "metadata": {},
     "output_type": "execute_result"
    }
   ],
   "source": [
    "x_train_scaled1"
   ]
  },
  {
   "cell_type": "code",
   "execution_count": 69,
   "metadata": {},
   "outputs": [
    {
     "data": {
      "text/plain": [
       "array([[0.91975725, 0.53448276],\n",
       "       [0.95819285, 0.69655172],\n",
       "       [0.87188132, 0.48448276],\n",
       "       [0.92582603, 0.25862069],\n",
       "       [0.83412003, 0.20172414],\n",
       "       [0.96426163, 0.33103448],\n",
       "       [0.8091706 , 0.59137931],\n",
       "       [0.90357384, 0.67413793],\n",
       "       [0.78287256, 0.23275862],\n",
       "       [0.9008766 , 0.44137931],\n",
       "       [0.91031693, 0.31206897],\n",
       "       [0.91031693, 0.53793103],\n",
       "       [0.90424815, 0.66206897],\n",
       "       [0.86109238, 0.59137931],\n",
       "       [0.91908294, 0.31206897],\n",
       "       [0.84423466, 0.41896552],\n",
       "       [0.76938638, 0.12758621],\n",
       "       [0.81456507, 0.19482759],\n",
       "       [0.93459204, 0.23275862],\n",
       "       [0.81456507, 0.23965517],\n",
       "       [0.95684423, 0.27413793],\n",
       "       [0.88401888, 0.17413793],\n",
       "       [0.83142279, 0.18965517],\n",
       "       [0.90357384, 0.79310345],\n",
       "       [0.86109238, 0.41206897],\n",
       "       [0.92919757, 0.47586207],\n",
       "       [0.83749157, 0.27758621],\n",
       "       [0.83412003, 0.20862069],\n",
       "       [0.81456507, 0.31551724],\n",
       "       [0.91436278, 0.29827586],\n",
       "       [0.94538098, 0.28965517],\n",
       "       [0.83412003, 0.28103448],\n",
       "       [0.88739042, 0.61551724],\n",
       "       [0.9157114 , 0.2862069 ],\n",
       "       [0.92717465, 0.29827586],\n",
       "       [0.93594066, 0.32586207],\n",
       "       [0.96695887, 0.28965517],\n",
       "       [0.84490897, 0.95      ],\n",
       "       [0.83412003, 0.18448276],\n",
       "       [0.90896831, 0.28793103],\n",
       "       [0.88132165, 0.25862069],\n",
       "       [0.82400539, 0.22241379],\n",
       "       [0.85434929, 0.16896552],\n",
       "       [0.89952798, 0.16206897],\n",
       "       [0.91840863, 0.85344828]])"
      ]
     },
     "execution_count": 69,
     "metadata": {},
     "output_type": "execute_result"
    }
   ],
   "source": [
    "x_test_scaled1"
   ]
  },
  {
   "cell_type": "markdown",
   "metadata": {},
   "source": [
    "# robust scaling (outliers)"
   ]
  },
  {
   "cell_type": "code",
   "execution_count": 70,
   "metadata": {},
   "outputs": [],
   "source": [
    "from sklearn.preprocessing import RobustScaler\n",
    "\n",
    "scaler_rs=RobustScaler()\n",
    "\n",
    "# fit & transform\n",
    "x_train_scaled2=scaler_rs.fit_transform(x_train)\n",
    "x_test_scaled2=scaler_rs.fit_transform(x_test)"
   ]
  },
  {
   "cell_type": "code",
   "execution_count": 71,
   "metadata": {},
   "outputs": [
    {
     "data": {
      "text/plain": [
       "(array([[ 0.12142857,  0.30065359],\n",
       "        [-0.65      ,  0.11764706],\n",
       "        [-0.40714286,  1.65359477],\n",
       "        [-0.29285714, -0.39869281],\n",
       "        [ 0.6       , -0.16339869],\n",
       "        [ 0.02857143, -0.65359477],\n",
       "        [ 0.87857143, -0.13071895],\n",
       "        [ 0.28571429, -0.08496732],\n",
       "        [ 0.17142857,  0.91503268],\n",
       "        [ 0.35714286,  1.10457516],\n",
       "        [-0.34285714, -0.11111111],\n",
       "        [-0.47142857, -0.59477124],\n",
       "        [ 0.20714286, -0.16993464],\n",
       "        [-0.5       ,  0.60784314],\n",
       "        [ 0.51428571, -0.02614379],\n",
       "        [ 0.63571429,  2.05228758],\n",
       "        [-0.5       , -0.32026144],\n",
       "        [-0.55714286, -0.46405229],\n",
       "        [-0.12142857,  0.96078431],\n",
       "        [ 0.80714286, -0.2745098 ],\n",
       "        [ 1.        , -0.01960784],\n",
       "        [ 0.22142857, -0.11764706],\n",
       "        [-0.52857143,  1.29411765],\n",
       "        [ 0.17857143,  0.45098039],\n",
       "        [ 0.49285714, -0.04575163],\n",
       "        [-0.37142857, -0.24836601],\n",
       "        [-0.56428571,  0.73856209],\n",
       "        [-0.95      , -0.0130719 ],\n",
       "        [ 0.79285714,  0.16993464],\n",
       "        [-0.08571429,  1.77124183],\n",
       "        [ 0.04285714,  2.54901961],\n",
       "        [ 0.88571429, -0.12418301],\n",
       "        [ 0.37857143,  0.83006536],\n",
       "        [-0.4       , -0.24183007],\n",
       "        [-0.58571429, -0.29411765],\n",
       "        [ 0.04285714, -0.08496732],\n",
       "        [-0.84285714,  0.14379085],\n",
       "        [ 0.62857143,  0.        ],\n",
       "        [ 0.40714286, -0.12418301],\n",
       "        [-0.85714286,  0.1503268 ],\n",
       "        [ 0.04285714,  0.09803922],\n",
       "        [-0.1       , -0.19607843],\n",
       "        [-0.12857143,  0.26797386],\n",
       "        [-0.19285714, -0.05882353],\n",
       "        [-0.20714286,  1.2875817 ],\n",
       "        [-0.82142857, -0.66013072],\n",
       "        [ 0.87857143,  1.36601307],\n",
       "        [-0.27857143, -0.36601307],\n",
       "        [-0.59285714, -0.18954248],\n",
       "        [-1.1       ,  0.32679739],\n",
       "        [ 0.51428571,  2.45098039],\n",
       "        [-0.1       ,  0.89542484],\n",
       "        [ 0.65      , -0.14379085],\n",
       "        [-0.97857143,  0.05882353],\n",
       "        [-0.27857143,  0.36601307],\n",
       "        [ 0.32857143,  1.17647059],\n",
       "        [-0.25      , -0.35294118],\n",
       "        [ 0.        , -0.1503268 ],\n",
       "        [ 0.55      , -0.24183007],\n",
       "        [-0.65714286,  0.16993464],\n",
       "        [-0.20714286,  1.07843137],\n",
       "        [-0.10714286,  0.69281046],\n",
       "        [ 0.48571429, -0.4248366 ],\n",
       "        [ 0.12857143,  0.45098039],\n",
       "        [-0.87857143,  0.50980392],\n",
       "        [-1.4       , -0.25490196],\n",
       "        [-0.40714286,  0.4248366 ],\n",
       "        [ 0.55714286,  0.        ],\n",
       "        [ 0.86428571, -0.09150327],\n",
       "        [-0.45      ,  1.26143791],\n",
       "        [ 0.98571429,  0.03267974],\n",
       "        [ 0.52857143,  1.60784314],\n",
       "        [ 0.67857143, -0.11111111],\n",
       "        [ 0.35      , -0.05882353],\n",
       "        [-0.70714286, -0.64052288],\n",
       "        [-0.82142857,  0.64705882],\n",
       "        [ 0.37142857, -0.06535948],\n",
       "        [ 0.99285714,  1.10457516],\n",
       "        [ 0.76428571,  0.16339869],\n",
       "        [-0.8       ,  1.5751634 ],\n",
       "        [ 0.17857143,  1.35947712],\n",
       "        [-0.5       , -0.18954248],\n",
       "        [-0.52857143,  1.84313725],\n",
       "        [-1.09285714,  1.20261438],\n",
       "        [-0.70714286, -0.25490196],\n",
       "        [ 0.04285714,  1.28104575],\n",
       "        [ 0.60714286,  1.45098039],\n",
       "        [ 0.5       ,  0.88888889],\n",
       "        [-0.65      , -0.37254902],\n",
       "        [ 1.31428571, -0.16993464],\n",
       "        [ 1.25714286, -0.11111111],\n",
       "        [-0.44285714, -0.62745098],\n",
       "        [ 0.08571429,  0.        ],\n",
       "        [-0.07857143,  0.7124183 ],\n",
       "        [ 0.6       , -0.21568627],\n",
       "        [ 0.35714286, -0.15686275],\n",
       "        [ 0.12857143,  2.1503268 ],\n",
       "        [-0.34285714, -0.43137255],\n",
       "        [ 0.23571429,  0.87581699],\n",
       "        [-0.02142857,  1.0130719 ],\n",
       "        [-0.44285714, -0.50326797],\n",
       "        [ 0.53571429, -0.1503268 ],\n",
       "        [-0.19285714, -0.09803922],\n",
       "        [ 0.04285714, -0.11111111],\n",
       "        [ 0.2       ,  1.55555556],\n",
       "        [ 0.52142857, -0.30718954],\n",
       "        [ 0.79285714,  0.07843137],\n",
       "        [-0.96428571,  0.10457516],\n",
       "        [-0.04285714,  1.24183007],\n",
       "        [ 0.21428571,  0.04575163],\n",
       "        [ 0.83571429,  0.39869281],\n",
       "        [-0.67857143,  1.56862745],\n",
       "        [ 0.04285714, -0.16339869],\n",
       "        [-0.38571429,  0.73856209],\n",
       "        [ 0.42142857,  0.44444444],\n",
       "        [ 0.15      , -0.07843137],\n",
       "        [ 0.59285714, -0.09803922],\n",
       "        [ 0.06428571,  1.30718954],\n",
       "        [-0.09285714, -0.35947712],\n",
       "        [-0.14285714,  0.50326797],\n",
       "        [-0.83571429, -0.11764706],\n",
       "        [-0.5       ,  0.83006536],\n",
       "        [-0.83571429, -0.28104575],\n",
       "        [-0.95714286, -0.1503268 ],\n",
       "        [-0.73571429, -0.52941176],\n",
       "        [-1.02142857,  0.09803922],\n",
       "        [ 0.81428571,  1.4379085 ],\n",
       "        [ 0.76428571, -0.17647059],\n",
       "        [ 0.62142857, -0.25490196],\n",
       "        [-0.52857143, -0.11111111],\n",
       "        [ 0.99285714, -0.01960784],\n",
       "        [-0.21428571, -0.24183007],\n",
       "        [-0.46428571,  0.35947712]]),\n",
       " array([[ 0.23809524,  0.93835616],\n",
       "        [ 0.69047619,  1.58219178],\n",
       "        [-0.32539683,  0.73972603],\n",
       "        [ 0.30952381, -0.15753425],\n",
       "        [-0.76984127, -0.38356164],\n",
       "        [ 0.76190476,  0.13013699],\n",
       "        [-1.06349206,  1.16438356],\n",
       "        [ 0.04761905,  1.49315068],\n",
       "        [-1.37301587, -0.26027397],\n",
       "        [ 0.01587302,  0.56849315],\n",
       "        [ 0.12698413,  0.05479452],\n",
       "        [ 0.12698413,  0.95205479],\n",
       "        [ 0.05555556,  1.44520548],\n",
       "        [-0.45238095,  1.16438356],\n",
       "        [ 0.23015873,  0.05479452],\n",
       "        [-0.65079365,  0.47945205],\n",
       "        [-1.53174603, -0.67808219],\n",
       "        [-1.        , -0.4109589 ],\n",
       "        [ 0.41269841, -0.26027397],\n",
       "        [-1.        , -0.23287671],\n",
       "        [ 0.67460317, -0.09589041],\n",
       "        [-0.18253968, -0.49315068],\n",
       "        [-0.8015873 , -0.43150685],\n",
       "        [ 0.04761905,  1.96575342],\n",
       "        [-0.45238095,  0.45205479],\n",
       "        [ 0.34920635,  0.70547945],\n",
       "        [-0.73015873, -0.08219178],\n",
       "        [-0.76984127, -0.35616438],\n",
       "        [-1.        ,  0.06849315],\n",
       "        [ 0.17460317,  0.        ],\n",
       "        [ 0.53968254, -0.03424658],\n",
       "        [-0.76984127, -0.06849315],\n",
       "        [-0.14285714,  1.26027397],\n",
       "        [ 0.19047619, -0.04794521],\n",
       "        [ 0.32539683,  0.        ],\n",
       "        [ 0.42857143,  0.10958904],\n",
       "        [ 0.79365079, -0.03424658],\n",
       "        [-0.64285714,  2.5890411 ],\n",
       "        [-0.76984127, -0.45205479],\n",
       "        [ 0.11111111, -0.04109589],\n",
       "        [-0.21428571, -0.15753425],\n",
       "        [-0.88888889, -0.30136986],\n",
       "        [-0.53174603, -0.51369863],\n",
       "        [ 0.        , -0.54109589],\n",
       "        [ 0.22222222,  2.20547945]]))"
      ]
     },
     "execution_count": 71,
     "metadata": {},
     "output_type": "execute_result"
    }
   ],
   "source": [
    "x_train_scaled2, x_test_scaled2"
   ]
  },
  {
   "cell_type": "markdown",
   "metadata": {},
   "source": [
    "accuracy before and after scaling"
   ]
  },
  {
   "cell_type": "code",
   "execution_count": 79,
   "metadata": {},
   "outputs": [],
   "source": [
    "from sklearn.linear_model import LogisticRegression"
   ]
  },
  {
   "cell_type": "code",
   "execution_count": 80,
   "metadata": {},
   "outputs": [],
   "source": [
    "lr = LogisticRegression()\n",
    "lr_scaled = LogisticRegression()"
   ]
  },
  {
   "cell_type": "code",
   "execution_count": 81,
   "metadata": {},
   "outputs": [
    {
     "data": {
      "text/html": [
       "<style>#sk-container-id-4 {color: black;}#sk-container-id-4 pre{padding: 0;}#sk-container-id-4 div.sk-toggleable {background-color: white;}#sk-container-id-4 label.sk-toggleable__label {cursor: pointer;display: block;width: 100%;margin-bottom: 0;padding: 0.3em;box-sizing: border-box;text-align: center;}#sk-container-id-4 label.sk-toggleable__label-arrow:before {content: \"▸\";float: left;margin-right: 0.25em;color: #696969;}#sk-container-id-4 label.sk-toggleable__label-arrow:hover:before {color: black;}#sk-container-id-4 div.sk-estimator:hover label.sk-toggleable__label-arrow:before {color: black;}#sk-container-id-4 div.sk-toggleable__content {max-height: 0;max-width: 0;overflow: hidden;text-align: left;background-color: #f0f8ff;}#sk-container-id-4 div.sk-toggleable__content pre {margin: 0.2em;color: black;border-radius: 0.25em;background-color: #f0f8ff;}#sk-container-id-4 input.sk-toggleable__control:checked~div.sk-toggleable__content {max-height: 200px;max-width: 100%;overflow: auto;}#sk-container-id-4 input.sk-toggleable__control:checked~label.sk-toggleable__label-arrow:before {content: \"▾\";}#sk-container-id-4 div.sk-estimator input.sk-toggleable__control:checked~label.sk-toggleable__label {background-color: #d4ebff;}#sk-container-id-4 div.sk-label input.sk-toggleable__control:checked~label.sk-toggleable__label {background-color: #d4ebff;}#sk-container-id-4 input.sk-hidden--visually {border: 0;clip: rect(1px 1px 1px 1px);clip: rect(1px, 1px, 1px, 1px);height: 1px;margin: -1px;overflow: hidden;padding: 0;position: absolute;width: 1px;}#sk-container-id-4 div.sk-estimator {font-family: monospace;background-color: #f0f8ff;border: 1px dotted black;border-radius: 0.25em;box-sizing: border-box;margin-bottom: 0.5em;}#sk-container-id-4 div.sk-estimator:hover {background-color: #d4ebff;}#sk-container-id-4 div.sk-parallel-item::after {content: \"\";width: 100%;border-bottom: 1px solid gray;flex-grow: 1;}#sk-container-id-4 div.sk-label:hover label.sk-toggleable__label {background-color: #d4ebff;}#sk-container-id-4 div.sk-serial::before {content: \"\";position: absolute;border-left: 1px solid gray;box-sizing: border-box;top: 0;bottom: 0;left: 50%;z-index: 0;}#sk-container-id-4 div.sk-serial {display: flex;flex-direction: column;align-items: center;background-color: white;padding-right: 0.2em;padding-left: 0.2em;position: relative;}#sk-container-id-4 div.sk-item {position: relative;z-index: 1;}#sk-container-id-4 div.sk-parallel {display: flex;align-items: stretch;justify-content: center;background-color: white;position: relative;}#sk-container-id-4 div.sk-item::before, #sk-container-id-4 div.sk-parallel-item::before {content: \"\";position: absolute;border-left: 1px solid gray;box-sizing: border-box;top: 0;bottom: 0;left: 50%;z-index: -1;}#sk-container-id-4 div.sk-parallel-item {display: flex;flex-direction: column;z-index: 1;position: relative;background-color: white;}#sk-container-id-4 div.sk-parallel-item:first-child::after {align-self: flex-end;width: 50%;}#sk-container-id-4 div.sk-parallel-item:last-child::after {align-self: flex-start;width: 50%;}#sk-container-id-4 div.sk-parallel-item:only-child::after {width: 0;}#sk-container-id-4 div.sk-dashed-wrapped {border: 1px dashed gray;margin: 0 0.4em 0.5em 0.4em;box-sizing: border-box;padding-bottom: 0.4em;background-color: white;}#sk-container-id-4 div.sk-label label {font-family: monospace;font-weight: bold;display: inline-block;line-height: 1.2em;}#sk-container-id-4 div.sk-label-container {text-align: center;}#sk-container-id-4 div.sk-container {/* jupyter's `normalize.less` sets `[hidden] { display: none; }` but bootstrap.min.css set `[hidden] { display: none !important; }` so we also need the `!important` here to be able to override the default hidden behavior on the sphinx rendered scikit-learn.org. See: https://github.com/scikit-learn/scikit-learn/issues/21755 */display: inline-block !important;position: relative;}#sk-container-id-4 div.sk-text-repr-fallback {display: none;}</style><div id=\"sk-container-id-4\" class=\"sk-top-container\"><div class=\"sk-text-repr-fallback\"><pre>LogisticRegression()</pre><b>In a Jupyter environment, please rerun this cell to show the HTML representation or trust the notebook. <br />On GitHub, the HTML representation is unable to render, please try loading this page with nbviewer.org.</b></div><div class=\"sk-container\" hidden><div class=\"sk-item\"><div class=\"sk-estimator sk-toggleable\"><input class=\"sk-toggleable__control sk-hidden--visually\" id=\"sk-estimator-id-4\" type=\"checkbox\" checked><label for=\"sk-estimator-id-4\" class=\"sk-toggleable__label sk-toggleable__label-arrow\">LogisticRegression</label><div class=\"sk-toggleable__content\"><pre>LogisticRegression()</pre></div></div></div></div></div>"
      ],
      "text/plain": [
       "LogisticRegression()"
      ]
     },
     "execution_count": 81,
     "metadata": {},
     "output_type": "execute_result"
    }
   ],
   "source": [
    "lr.fit(x_train,y_train)\n",
    "lr_scaled.fit(x_train_scaled,y_train)"
   ]
  },
  {
   "cell_type": "code",
   "execution_count": 82,
   "metadata": {},
   "outputs": [],
   "source": [
    "y_pred = lr.predict(x_test)\n",
    "y_pred_scaled = lr_scaled.predict(x_test_scaled)"
   ]
  },
  {
   "cell_type": "code",
   "execution_count": 83,
   "metadata": {},
   "outputs": [
    {
     "name": "stdout",
     "output_type": "stream",
     "text": [
      "Actual 0.7555555555555555\n",
      "Scaled 0.7555555555555555\n"
     ]
    }
   ],
   "source": [
    "from sklearn.metrics import accuracy_score\n",
    "print(\"Actual\",accuracy_score(y_test,y_pred))\n",
    "print(\"Scaled\",accuracy_score(y_test,y_pred_scaled))"
   ]
  }
 ],
 "metadata": {
  "kernelspec": {
   "display_name": "Python 3",
   "language": "python",
   "name": "python3"
  },
  "language_info": {
   "codemirror_mode": {
    "name": "ipython",
    "version": 3
   },
   "file_extension": ".py",
   "mimetype": "text/x-python",
   "name": "python",
   "nbconvert_exporter": "python",
   "pygments_lexer": "ipython3",
   "version": "3.10.11"
  },
  "orig_nbformat": 4
 },
 "nbformat": 4,
 "nbformat_minor": 2
}
